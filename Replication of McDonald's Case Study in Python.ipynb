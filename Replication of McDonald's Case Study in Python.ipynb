{
 "cells": [
  {
   "cell_type": "code",
   "execution_count": 1,
   "id": "cefd20c8-22c0-47c0-ab43-18bb08cb2ed4",
   "metadata": {},
   "outputs": [
    {
     "name": "stderr",
     "output_type": "stream",
     "text": [
      "C:\\Users\\praga\\anaconda3\\Lib\\site-packages\\sklearn\\cluster\\_kmeans.py:1446: UserWarning: KMeans is known to have a memory leak on Windows with MKL, when there are less chunks than available threads. You can avoid it by setting the environment variable OMP_NUM_THREADS=1.\n",
      "  warnings.warn(\n"
     ]
    },
    {
     "name": "stdout",
     "output_type": "stream",
     "text": [
      "   CustomerID  Preference1  Preference2  Preference3  Cluster\n",
      "0           1            5            2            3        2\n",
      "1           2            3            4            4        1\n",
      "2           3            6            1            2        2\n",
      "3           4            2            6            5        1\n",
      "4           5            4            7            6        1\n",
      "5           6            7            3            2        2\n",
      "6           7            8            5            4        0\n",
      "7           8            2            8            5        1\n",
      "8           9            5            6            7        1\n",
      "9          10            6            4            6        0\n"
     ]
    },
    {
     "data": {
      "image/png": "[encoded data removed]",
      "text/plain": [
       "<Figure size 640x480 with 1 Axes>"
      ]
     },
     "metadata": {},
     "output_type": "display_data"
    }
   ],
   "source": [
    "import pandas as pd\n",
    "from sklearn.cluster import KMeans\n",
    "import matplotlib.pyplot as plt\n",
    "from sklearn.preprocessing import StandardScaler\n",
    "\n",
    "# Sample data: Assume this data represents different customer preferences\n",
    "data = {\n",
    "    'CustomerID': [1, 2, 3, 4, 5, 6, 7, 8, 9, 10],\n",
    "    'Preference1': [5, 3, 6, 2, 4, 7, 8, 2, 5, 6],\n",
    "    'Preference2': [2, 4, 1, 6, 7, 3, 5, 8, 6, 4],\n",
    "    'Preference3': [3, 4, 2, 5, 6, 2, 4, 5, 7, 6]\n",
    "}\n",
    "\n",
    "# Convert to DataFrame\n",
    "df = pd.DataFrame(data)\n",
    "\n",
    "# Standardize the data\n",
    "scaler = StandardScaler()\n",
    "scaled_data = scaler.fit_transform(df.drop('CustomerID', axis=1))\n",
    "\n",
    "# Apply K-Means clustering\n",
    "kmeans = KMeans(n_clusters=3)\n",
    "clusters = kmeans.fit_predict(scaled_data)\n",
    "\n",
    "# Add cluster labels to the DataFrame\n",
    "df['Cluster'] = clusters\n",
    "\n",
    "# Print the clustered data\n",
    "print(df)\n",
    "\n",
    "# Visualize the clusters\n",
    "plt.scatter(df['Preference1'], df['Preference2'], c=df['Cluster'], cmap='viridis')\n",
    "plt.xlabel('Preference1')\n",
    "plt.ylabel('Preference2')\n",
    "plt.title('Customer Segments')\n",
    "plt.show()\n"
   ]
  },
  {
   "cell_type": "code",
   "execution_count": 6,
   "id": "d777e3f0-f1c6-41da-a4d5-cfff5bdcbbc9",
   "metadata": {},
   "outputs": [],
   "source": [
    "#Understanding the Graph\n",
    "#1. Axes: The x-axis represents Preference1 and the y-axis represents Preference2. These are two of the three preference dimensions in which customers' preferences are measured. Each point on the graph represents a customer.\n",
    "\n",
    "#2. Color Coding: The points are colored according to the cluster to which each customer belongs. The color coding helps to visually distinguish between different segments (clusters) of customers.\n",
    "\n",
    "#3. Clusters: The customers are grouped into clusters based on their preferences. In this example, K-means clustering has been used to divide the customers into three clusters.'''"
   ]
  },
  {
   "cell_type": "code",
   "execution_count": 2,
   "id": "d96391b2-1a38-4d03-9a24-553df5f2c0eb",
   "metadata": {},
   "outputs": [
    {
     "data": {
      "text/plain": [
       "\" Data Preparation: The sample data represents different customer preferences.\\n1. Standardization: The data is standardized to ensure that each preference contributes equally to the distance calculations used in clustering.\\n2. Clustering: K-means clustering is applied to group the customers into three segments based on their preferences.\\n3. Visualization: The resulting clusters are visualized in a scatter plot to illustrate the segmentation.\\nThis Python script provides a simple example of how market segmentation can be implemented using clustering techniques. By analyzing customer preferences, businesses like McDonald's can better understand their market segments and tailor their marketing strategies accordingly .\""
      ]
     },
     "execution_count": 2,
     "metadata": {},
     "output_type": "execute_result"
    }
   ],
   "source": [
    "#Explanation:\n",
    "''' Data Preparation: The sample data represents different customer preferences.\n",
    "1. Standardization: The data is standardized to ensure that each preference contributes equally to the distance calculations used in clustering.\n",
    "2. Clustering: K-means clustering is applied to group the customers into three segments based on their preferences.\n",
    "3. Visualization: The resulting clusters are visualized in a scatter plot to illustrate the segmentation.\n",
    "This Python script provides a simple example of how market segmentation can be implemented using clustering techniques. By analyzing customer preferences, businesses like McDonald's can better understand their market segments and tailor their marketing strategies accordingly .'''"
   ]
  },
  {
   "cell_type": "code",
   "execution_count": null,
   "id": "c5c090e7-fadc-455c-a3b4-de1dafc57564",
   "metadata": {},
   "outputs": [],
   "source": [
    "'''The black points (Cluster 0) are clustered in the bottom right corner of the graph.\n",
    "The green points (Cluster 1) are spread across the top.\n",
    "The yellow points (Cluster 2) are concentrated in the middle.\n",
    "From this visualization, McDonald's can see that customers in Cluster 0 have high Preference1 and low Preference2, while those in Cluster 1 have a mix of moderate to high preferences in both dimensions, and Cluster 2 has moderate Preference1 and moderate Preference2.'''"
   ]
  }
 ],
 "metadata": {
  "kernelspec": {
   "display_name": "Python 3 (ipykernel)",
   "language": "python",
   "name": "python3"
  },
  "language_info": {
   "codemirror_mode": {
    "name": "ipython",
    "version": 3
   },
   "file_extension": ".py",
   "mimetype": "text/x-python",
   "name": "python",
   "nbconvert_exporter": "python",
   "pygments_lexer": "ipython3",
   "version": "3.11.5"
  }
 },
 "nbformat": 4,
 "nbformat_minor": 5
}
